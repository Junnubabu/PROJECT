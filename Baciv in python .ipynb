{
  "nbformat": 4,
  "nbformat_minor": 0,
  "metadata": {
    "colab": {
      "provenance": [],
      "authorship_tag": "ABX9TyNqtHM2kJdZvKpf/uYXM7P5",
      "include_colab_link": true
    },
    "kernelspec": {
      "name": "python3",
      "display_name": "Python 3"
    },
    "language_info": {
      "name": "python"
    }
  },
  "cells": [
    {
      "cell_type": "markdown",
      "metadata": {
        "id": "view-in-github",
        "colab_type": "text"
      },
      "source": [
        "<a href=\"https://colab.research.google.com/github/Junnubabu/PROJECT/blob/main/Baciv%20in%20python%20.ipynb\" target=\"_parent\"><img src=\"https://colab.research.google.com/assets/colab-badge.svg\" alt=\"Open In Colab\"/></a>"
      ]
    },
    {
      "cell_type": "markdown",
      "source": [
        "**1. Identifiers**\n",
        "\n",
        "**Definition:**\n",
        "\n",
        "Identifiers are names given to variables, functions, classes, etc. in Python. They help us reference values in the program.\n",
        "\n",
        "**Rules:**\n",
        "Can contain letters (a-z, A-Z), digits (0-9), and underscore (_).\n",
        "Cannot start with a digit.\n",
        "Case-sensitive (Age and age are different).\n",
        "Cannot use keywords as identifiers.\n"
      ],
      "metadata": {
        "id": "wmO_5EpGrmvu"
      }
    },
    {
      "cell_type": "code",
      "execution_count": 2,
      "metadata": {
        "colab": {
          "base_uri": "https://localhost:8080/"
        },
        "id": "VwAdl81srNoP",
        "outputId": "1470c8a1-ad90-4f6f-96af-2e249b68a13a"
      },
      "outputs": [
        {
          "output_type": "stream",
          "name": "stdout",
          "text": [
            "GOPI 25\n"
          ]
        }
      ],
      "source": [
        "#Example: Identifiers\n",
        "name = \"GOPI\"\n",
        "_age = 25\n",
        "print(name, _age)\n"
      ]
    },
    {
      "cell_type": "markdown",
      "source": [
        "**2. Keywords**\n",
        "\n",
        "**Definition:**\n",
        "Keywords are reserved words in Python that have predefined meanings and cannot be used as identifiers.\n",
        "\n",
        "**Example of keywords:**\n",
        "\n",
        "False, None, True, and, as, assert, break, class, continue, def, del, elif, else, except, finally, for, from, global, if, import, in, is, lambda, nonlocal, not, or, pass, raise, return, try, while, with, yield, match, case\n"
      ],
      "metadata": {
        "id": "M_qBDk2hsLIo"
      }
    },
    {
      "cell_type": "code",
      "source": [
        "#To verify using code:\n",
        "import keyword\n",
        "print(keyword.kwlist)\n",
        "print(\"Total keywords:\", len(keyword.kwlist))\n"
      ],
      "metadata": {
        "colab": {
          "base_uri": "https://localhost:8080/"
        },
        "id": "8pLAXt10seOt",
        "outputId": "2f0cb508-0d1b-4499-fb45-608902ac81af"
      },
      "execution_count": 3,
      "outputs": [
        {
          "output_type": "stream",
          "name": "stdout",
          "text": [
            "['False', 'None', 'True', 'and', 'as', 'assert', 'async', 'await', 'break', 'class', 'continue', 'def', 'del', 'elif', 'else', 'except', 'finally', 'for', 'from', 'global', 'if', 'import', 'in', 'is', 'lambda', 'nonlocal', 'not', 'or', 'pass', 'raise', 'return', 'try', 'while', 'with', 'yield']\n",
            "Total keywords: 35\n"
          ]
        }
      ]
    },
    {
      "cell_type": "markdown",
      "source": [
        "**3. Statements and Expressions**\n",
        "\n",
        "**Statement:** A complete line of code that performs an action.\n",
        "\n",
        "**Expression:** A combination of variables, values, and operators that evaluates to a value."
      ],
      "metadata": {
        "id": "tFcthPRsssTI"
      }
    },
    {
      "cell_type": "code",
      "source": [
        "# Statement\n",
        "x = 5   # assignment statement\n",
        "print(\"x value is:\", x)\n",
        "# Expression\n",
        "y = x + 10  # x + 10 is an expression\n",
        "print(\"y value is:\", y)"
      ],
      "metadata": {
        "colab": {
          "base_uri": "https://localhost:8080/"
        },
        "id": "-XxL1Cwosk-t",
        "outputId": "98f6a76b-f99e-492a-bfc1-2495361795d8"
      },
      "execution_count": 7,
      "outputs": [
        {
          "output_type": "stream",
          "name": "stdout",
          "text": [
            "x value is: 5\n",
            "y value is: 15\n"
          ]
        }
      ]
    },
    {
      "cell_type": "markdown",
      "source": [
        "**4. Variables**\n",
        "\n",
        "**Definition:**\n",
        "\n",
        "A variable is a name that refers to a value stored in memory. Python does not require explicit declaration of variable types."
      ],
      "metadata": {
        "id": "XvxuXqMrtQK8"
      }
    },
    {
      "cell_type": "code",
      "source": [
        "age = 30\n",
        "name = \"John\"\n",
        "print(name, \"is\", age, \"years old\")"
      ],
      "metadata": {
        "colab": {
          "base_uri": "https://localhost:8080/"
        },
        "id": "UF3ZqTiztv3t",
        "outputId": "b8255650-8a1e-4c70-d23c-0dee387ae90f"
      },
      "execution_count": 8,
      "outputs": [
        {
          "output_type": "stream",
          "name": "stdout",
          "text": [
            "John is 30 years old\n"
          ]
        }
      ]
    },
    {
      "cell_type": "markdown",
      "source": [
        "**5. Operators**\n",
        "\n",
        "Types:\n",
        "\n",
        "Arithmetic (+, -, *, /, //, %, **)\n",
        "\n",
        "Relational (==, !=, >, <, >=, <=)\n",
        "\n",
        "Logical (and, or, not)\n",
        "\n",
        "Assignment (=, +=, -=, etc.)\n",
        "\n",
        "Membership (in, not in)\n",
        "\n",
        "Identity (is, is not)"
      ],
      "metadata": {
        "id": "IY7rAZ_luERw"
      }
    },
    {
      "cell_type": "code",
      "source": [
        "# Program to demonstrate different types of operators in Python with dynamic input, comments, and output explanation\n",
        "\n",
        "# Taking dynamic input from the user for arithmetic, relational, bitwise operations\n",
        "a = int(input(\"Enter first number (a): \"))  # Example: a = 10\n",
        "b = int(input(\"Enter second number (b): \")) # Example: b = 3\n",
        "\n",
        "# ----------------- ARITHMETIC OPERATORS -----------------\n",
        "print(\"\\nArithmetic Operators:\")\n",
        "print(\"a + b =\", a + b)    # Adds a and b (10 + 3 = 13)\n",
        "print(\"a - b =\", a - b)    # Subtracts b from a (10 - 3 = 7)\n",
        "print(\"a * b =\", a * b)    # Multiplies a and b (10 * 3 = 30)\n",
        "print(\"a / b =\", a / b)    # Divides a by b (10 / 3 = 3.333...)\n",
        "print(\"a // b =\", a // b)  # Floor division removes decimal (10 // 3 = 3)\n",
        "print(\"a % b =\", a % b)    # Modulus gives remainder (10 % 3 = 1)\n",
        "print(\"a ** b =\", a ** b)  # Exponentiation (10 ** 3 = 1000)\n",
        "\n",
        "# ----------------- RELATIONAL (COMPARISON) OPERATORS -----------------\n",
        "print(\"\\nRelational Operators:\")\n",
        "print(\"a > b =\", a > b)     # True because 10 is greater than 3\n",
        "print(\"a < b =\", a < b)     # False because 10 is NOT less than 3\n",
        "print(\"a == b =\", a == b)   # False because 10 is NOT equal to 3\n",
        "print(\"a != b =\", a != b)   # True because 10 is NOT equal to 3\n",
        "print(\"a >= b =\", a >= b)   # True because 10 is greater than or equal to 3\n",
        "print(\"a <= b =\", a <= b)   # False because 10 is NOT less than or equal to 3\n",
        "\n",
        "# ----------------- LOGICAL OPERATORS -----------------\n",
        "# Taking Boolean input for logical operations (1 = True, 0 = False)\n",
        "x = bool(int(input(\"Enter 1 for True or 0 for False (x): \")))  # Example: x = True\n",
        "y = bool(int(input(\"Enter 1 for True or 0 for False (y): \")))  # Example: y = False\n",
        "\n",
        "print(\"\\nLogical Operators:\")\n",
        "print(\"x and y =\", x and y)  # True AND False = False\n",
        "print(\"x or y =\", x or y)    # True OR False = True\n",
        "print(\"not x =\", not x)      # NOT True = False\n",
        "\n",
        "# ----------------- ASSIGNMENT OPERATORS -----------------\n",
        "c = int(input(\"Enter a number for c: \"))  # Example: c = 5\n",
        "print(\"\\nAssignment Operators:\")\n",
        "print(\"Initial c =\", c)       # Shows original value of c (5)\n",
        "c += 2  # Adds 2 → c = 5 + 2 = 7\n",
        "print(\"c after += 2:\", c)\n",
        "c -= 1  # Subtracts 1 → c = 7 - 1 = 6\n",
        "print(\"c after -= 1:\", c)\n",
        "c *= 3  # Multiplies by 3 → c = 6 * 3 = 18\n",
        "print(\"c after *= 3:\", c)\n",
        "c //= 2 # Floor divide by 2 → c = 18 // 2 = 9\n",
        "print(\"c after //= 2:\", c)\n",
        "c %= 3  # Modulus → remainder of 9 % 3 = 0\n",
        "print(\"c after %= 3:\", c)\n",
        "c **= 2 # Raise to power 2 → c = 0 ** 2 = 0\n",
        "print(\"c after **= 2:\", c)\n",
        "\n",
        "# ----------------- BITWISE OPERATORS -----------------\n",
        "# Bitwise works on binary representation of numbers\n",
        "# Example: a = 10 (binary 1010), b = 3 (binary 0011)\n",
        "print(\"\\nBitwise Operators:\")\n",
        "print(\"a & b =\", a & b)   # AND → 1010 & 0011 = 0010 (decimal 2)\n",
        "print(\"a | b =\", a | b)   # OR → 1010 | 0011 = 1011 (decimal 11)\n",
        "print(\"a ^ b =\", a ^ b)   # XOR → 1010 ^ 0011 = 1001 (decimal 9)\n",
        "print(\"~a =\", ~a)         # NOT → invert all bits of a → -(a+1) → -11\n",
        "print(\"a << 1 =\", a << 1) # Left shift → 1010 << 1 = 10100 (decimal 20)\n",
        "print(\"a >> 1 =\", a >> 1) # Right shift → 1010 >> 1 = 0101 (decimal 5)\n",
        "\n",
        "# ----------------- MEMBERSHIP OPERATORS -----------------\n",
        "list1 = [1, 2, 3, 4, 5]\n",
        "print(\"\\nMembership Operators:\")\n",
        "print(\"2 in list1 =\", 2 in list1)             # True because 2 exists in the list\n",
        "print(\"10 not in list1 =\", 10 not in list1)   # True because 10 does not exist in the list\n",
        "\n",
        "# ----------------- IDENTITY OPERATORS -----------------\n",
        "print(\"\\nIdentity Operators:\")\n",
        "print(\"a is b =\", a is b)           # False because a and b are different objects\n",
        "print(\"a is not b =\", a is not b)   # True because they are not the same object\n"
      ],
      "metadata": {
        "colab": {
          "base_uri": "https://localhost:8080/"
        },
        "id": "iAJiukdeuLqh",
        "outputId": "6c6f42da-e32e-4fc3-965b-e20efbace8b4"
      },
      "execution_count": 10,
      "outputs": [
        {
          "output_type": "stream",
          "name": "stdout",
          "text": [
            "Enter first number (a): 10\n",
            "Enter second number (b): 3\n",
            "\n",
            "Arithmetic Operators:\n",
            "a + b = 13\n",
            "a - b = 7\n",
            "a * b = 30\n",
            "a / b = 3.3333333333333335\n",
            "a // b = 3\n",
            "a % b = 1\n",
            "a ** b = 1000\n",
            "\n",
            "Relational Operators:\n",
            "a > b = True\n",
            "a < b = False\n",
            "a == b = False\n",
            "a != b = True\n",
            "a >= b = True\n",
            "a <= b = False\n",
            "Enter 1 for True or 0 for False (x): 1\n",
            "Enter 1 for True or 0 for False (y): 0\n",
            "\n",
            "Logical Operators:\n",
            "x and y = False\n",
            "x or y = True\n",
            "not x = False\n",
            "Enter a number for c: 1001\n",
            "\n",
            "Assignment Operators:\n",
            "Initial c = 1001\n",
            "c after += 2: 1003\n",
            "c after -= 1: 1002\n",
            "c after *= 3: 3006\n",
            "c after //= 2: 1503\n",
            "c after %= 3: 0\n",
            "c after **= 2: 0\n",
            "\n",
            "Bitwise Operators:\n",
            "a & b = 2\n",
            "a | b = 11\n",
            "a ^ b = 9\n",
            "~a = -11\n",
            "a << 1 = 20\n",
            "a >> 1 = 5\n",
            "\n",
            "Membership Operators:\n",
            "2 in list1 = True\n",
            "10 not in list1 = True\n",
            "\n",
            "Identity Operators:\n",
            "a is b = False\n",
            "a is not b = True\n"
          ]
        }
      ]
    },
    {
      "cell_type": "markdown",
      "source": [
        "**6. Precedence and Associativity**\n",
        "\n",
        "**Precedence:** The order in which operators are evaluated.\n",
        "\n",
        "**Associativity:** The order when operators have the same precedence (usually left to right)."
      ],
      "metadata": {
        "id": "ESpRH0i2weJ9"
      }
    },
    {
      "cell_type": "code",
      "source": [
        "print(2 + 3 * 4)      # 14 (multiplication first)\n",
        "print(2 ** 3 ** 2)    # 512 (right to left)"
      ],
      "metadata": {
        "colab": {
          "base_uri": "https://localhost:8080/"
        },
        "id": "3wsZyScBwdON",
        "outputId": "a16e4648-07b6-4aea-dd39-7573018b1acf"
      },
      "execution_count": 11,
      "outputs": [
        {
          "output_type": "stream",
          "name": "stdout",
          "text": [
            "14\n",
            "512\n"
          ]
        }
      ]
    },
    {
      "cell_type": "markdown",
      "source": [
        "**7. Data Types**\n",
        "\n",
        "**Numeric:** int, float, complex\n",
        "\n",
        "**Sequence:** str, list, tuple\n",
        "\n",
        "**Mapping:** dict\n",
        "\n",
        "**Set types:** set, frozenset\n",
        "\n",
        "**Boolean:** bool\n",
        "\n",
        "**None type:** None\n",
        "\n",
        "**NOTE:** Python is a dynamically typed language, which means you don’t need to declare the data type explicitly. The interpreter decides the type based on the value assigned."
      ],
      "metadata": {
        "id": "SmEHHt3Aw_zq"
      }
    },
    {
      "cell_type": "code",
      "source": [
        "# Numeric types\n",
        "a = 10          # int\n",
        "b = 12.5        # float\n",
        "c = 3 + 4j      # complex\n",
        "\n",
        "# Sequence types\n",
        "name = \"Python\"             # str\n",
        "fruits = [\"apple\", \"banana\"] # list\n",
        "coordinates = (10, 20)      # tuple\n",
        "\n",
        "# Mapping type\n",
        "student = {\"name\": \"John\", \"age\": 21}\n",
        "\n",
        "# Set types\n",
        "colors = {\"red\", \"green\"}   # set\n",
        "frozen_colors = frozenset([\"red\", \"blue\"]) # frozenset\n",
        "\n",
        "# Boolean type\n",
        "is_active = True\n",
        "\n",
        "# None type\n",
        "x = None\n",
        "\n",
        "# Display data types\n",
        "print(type(a))\n",
        "print(type(b))\n",
        "print(type(c))\n",
        "print(type(name))\n",
        "print(type(fruits))\n",
        "print(type(coordinates))\n",
        "print(type(student))\n",
        "print(type(colors))\n",
        "print(type(frozen_colors))\n",
        "print(type(is_active))\n",
        "print(type(x))\n"
      ],
      "metadata": {
        "colab": {
          "base_uri": "https://localhost:8080/"
        },
        "id": "MehkzJTKxcke",
        "outputId": "d111b019-25da-431f-bfb4-056133988c2f"
      },
      "execution_count": 12,
      "outputs": [
        {
          "output_type": "stream",
          "name": "stdout",
          "text": [
            "<class 'int'>\n",
            "<class 'float'>\n",
            "<class 'complex'>\n",
            "<class 'str'>\n",
            "<class 'list'>\n",
            "<class 'tuple'>\n",
            "<class 'dict'>\n",
            "<class 'set'>\n",
            "<class 'frozenset'>\n",
            "<class 'bool'>\n",
            "<class 'NoneType'>\n"
          ]
        }
      ]
    },
    {
      "cell_type": "markdown",
      "source": [
        "**8. Indentation**\n",
        "\n",
        "**Definition:** Spaces at the beginning of code blocks to define scope.\n",
        "\n",
        "Python does not use braces {}; indentation is mandatory."
      ],
      "metadata": {
        "id": "_KCsE6WDy52n"
      }
    },
    {
      "cell_type": "code",
      "source": [
        "# Program to demonstrate indentation in Python\n",
        "\n",
        "# Taking an input number\n",
        "num = int(input(\"Enter a number: \"))\n",
        "\n",
        "# Using if-else with correct indentation\n",
        "if num > 0:\n",
        "    print(\"The number is positive\")  # Indented block under if\n",
        "    if num % 2 == 0:\n",
        "        print(\"It is also even\")  # Nested block under second if\n",
        "    else:\n",
        "        print(\"It is odd\")  # Indented under else\n",
        "elif num == 0:\n",
        "    print(\"The number is zero\")  # Indented block under elif\n",
        "else:\n",
        "    print(\"The number is negative\")  # Indented block under else\n",
        "\n",
        "# Using a loop with indentation\n",
        "print(\"\\nPrinting numbers from 1 to 5:\")\n",
        "for i in range(1, 6):\n",
        "    print(i)  # Indented inside for loop\n",
        "    if i == 3:\n",
        "        print(\"Reached three!\")  # Nested indentation\n"
      ],
      "metadata": {
        "colab": {
          "base_uri": "https://localhost:8080/"
        },
        "id": "xhTL4cEyz0vU",
        "outputId": "188d7b8e-0201-4094-d230-65a7975a7dce"
      },
      "execution_count": 13,
      "outputs": [
        {
          "output_type": "stream",
          "name": "stdout",
          "text": [
            "Enter a number: 3\n",
            "The number is positive\n",
            "It is odd\n",
            "\n",
            "Printing numbers from 1 to 5:\n",
            "1\n",
            "2\n",
            "3\n",
            "Reached three!\n",
            "4\n",
            "5\n"
          ]
        }
      ]
    },
    {
      "cell_type": "markdown",
      "source": [
        "**9. Comments**\n",
        "\n",
        "**Single-line:** # comment\n",
        "\n",
        "**Multi-line:** ''' comment ''' or \"\"\" comment \"\"\""
      ],
      "metadata": {
        "id": "YDkoPhyBzk5k"
      }
    },
    {
      "cell_type": "code",
      "source": [
        "# This is a single-line comment\n",
        "# It explains only one line of code below\n",
        "\n",
        "# Taking input from user\n",
        "num = int(input(\"Enter a number: \"))  # This comment is after a statement (inline comment)\n",
        "\n",
        "'''\n",
        "This is a multi-line comment.\n",
        "It can be written using three single quotes (''' '''or three double quotes \"\"\" \"\"\").\n",
        "It is often used to describe a block of code or give detailed explanations.\n",
        "'''\n",
        "\n",
        "\"\"\"\n",
        "This is another way of writing multi-line comments using triple double quotes.\n",
        "Python treats these as multi-line strings, but they are commonly used for comments.\"\"\"\n",
        "\n",
        "# Check whether the number is positive, negative, or zero\n",
        "if num > 0:\n",
        "    print(\"Positive Number\")  # If condition is true, print this\n",
        "elif num == 0:\n",
        "    print(\"Zero\")  # If number is zero, print this\n",
        "else:\n",
        "    print(\"Negative Number\")  # Otherwise, it's negative"
      ],
      "metadata": {
        "colab": {
          "base_uri": "https://localhost:8080/"
        },
        "id": "nL_bJlg70dNE",
        "outputId": "02a43f43-22e7-4576-d742-2942648a1e11"
      },
      "execution_count": 18,
      "outputs": [
        {
          "output_type": "stream",
          "name": "stdout",
          "text": [
            "Enter a number: 8\n",
            "Positive Number\n"
          ]
        }
      ]
    },
    {
      "cell_type": "markdown",
      "source": [
        "***10. Reading Input***\n",
        "\n",
        "Reading input from the user, with single-line comments explaining each step and how the result comes:"
      ],
      "metadata": {
        "id": "jbat4XN_2D3q"
      }
    },
    {
      "cell_type": "code",
      "source": [
        "# Program to demonstrate reading input in Python\n",
        "\n",
        "# Reading input as string\n",
        "name = input(\"Enter your name: \")  # input() always returns a string\n",
        "print(\"Hello\", name)  # Prints the name entered by user\n",
        "\n",
        "# Reading integer input\n",
        "age = int(input(\"Enter your age: \"))  # Converts the input string to integer using int()\n",
        "print(\"Your age after 5 years will be:\", age + 5)  # Adds 5 to age\n",
        "\n",
        "# Reading floating-point number\n",
        "price = float(input(\"Enter the price of an item: \"))  # Converts to float\n",
        "print(\"Price after adding 18% tax:\", price + (price * 0.18))  # Calculates price with tax\n",
        "\n",
        "# Reading multiple values in one line (space-separated)\n",
        "x, y = input(\"Enter two numbers separated by space: \").split()  # split() divides input into parts\n",
        "x = int(x)  # Convert first value to integer\n",
        "y = int(y)  # Convert second value to integer\n",
        "print(\"Sum of two numbers:\", x + y)"
      ],
      "metadata": {
        "colab": {
          "base_uri": "https://localhost:8080/"
        },
        "id": "-Qt1nDeT2Wth",
        "outputId": "5b8145f5-cfc1-42f2-f177-61079b9bdb94"
      },
      "execution_count": 19,
      "outputs": [
        {
          "output_type": "stream",
          "name": "stdout",
          "text": [
            "Enter your name: anil\n",
            "Hello anil\n",
            "Enter your age: 25\n",
            "Your age after 5 years will be: 30\n",
            "Enter the price of an item: 500\n",
            "Price after adding 18% tax: 590.0\n",
            "Enter two numbers separated by space: 3 6\n",
            "Sum of two numbers: 9\n"
          ]
        }
      ]
    },
    {
      "cell_type": "markdown",
      "source": [
        "**How it works (Explanation)**\n",
        "\n",
        "input() → Always reads data as a string by default.\n",
        "\n",
        "int(input()) → Converts the string to an integer.\n",
        "\n",
        "float(input()) → Converts the string to a floating-point number.\n",
        "\n",
        ".split() → Splits input into multiple values when separated by spaces."
      ],
      "metadata": {
        "id": "sYtMlKAF2p6N"
      }
    }
  ]
}